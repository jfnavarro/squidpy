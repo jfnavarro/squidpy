{
 "cells": [
  {
   "cell_type": "markdown",
   "metadata": {},
   "source": [
    "# Image cropping function in action\n",
    "## load data"
   ]
  },
  {
   "cell_type": "code",
   "execution_count": 23,
   "metadata": {},
   "outputs": [],
   "source": [
    "import scanpy as sc\n",
    "import pandas as pd\n",
    "import numpy as np\n",
    "import matplotlib.pyplot as plt\n",
    "import os\n",
    "import time\n",
    "\n",
    "from spatial_tools.image._utils import *\n",
    "from spatial_tools.image.manipulate import crop_img\n",
    "from spatial_tools.image.tools import read_tif\n",
    "\n",
    "import skimage.feature as sk_image\n",
    "\n",
    "# path to \"raw\" dataset folder\n",
    "BASE_PATH = \"/storage/groups/ml01/datasets/raw/20200909_PublicVisium_giovanni.palla\"\n",
    "dataset_name = \"V1_Adult_Mouse_Brain\"\n",
    "dataset_folder = os.path.join(\n",
    "    BASE_PATH, \"20191205_10XVisium_MouseBrainCoronal_giovanni.palla\"\n",
    ")"
   ]
  },
  {
   "cell_type": "markdown",
   "metadata": {},
   "source": [
    "#### get feature abt dict method"
   ]
  },
  {
   "cell_type": "code",
   "execution_count": 61,
   "metadata": {},
   "outputs": [],
   "source": [
    "@timing\n",
    "def get_features_abt(adata, dataset_folder, dataset_name, features=[\"hog\"]):\n",
    "    \"\"\"\n",
    "    image: array of whole image to crop and calc features from\n",
    "    spot_ids: array of integers of the spot_id to analyze\n",
    "    xccord, ycoord: array of ints\n",
    "    spot_diameter: float\n",
    "    features: list of feature names to add to dataframe, default to hog\n",
    "    \"\"\"\n",
    "    features_list = []\n",
    "    \n",
    "    img = read_tif(dataset_folder, dataset_name)\n",
    "    \n",
    "    xcoord = adata.obsm[\"spatial\"][:, 0]\n",
    "    ycoord = adata.obsm[\"spatial\"][:, 1]\n",
    "    spot_diameter = adata.uns['spatial'][dataset_name]['scalefactors']['spot_diameter_fullres']\n",
    "    \n",
    "    cell_names = adata.obs.index.tolist()\n",
    "    \n",
    "    for spot_id, cell_name  in enumerate(cell_names):\n",
    "        crop_ = crop_img(img, xcoord[spot_id], ycoord[spot_id], scalef=1, \n",
    "                          sizef=1, spot_diameter=spot_diameter)\n",
    "        \n",
    "        features_dict = get_features_statistics(crop_, cell_name, features=features)        \n",
    "        features_list.append(features_dict)\n",
    "    \n",
    "    features_log = pd.DataFrame(features_list)\n",
    "    features_log[\"cell_name\"] = cell_names\n",
    "    features_log.set_index([\"cell_name\"], inplace=True)\n",
    "    return features_log\n",
    "\n",
    "def get_features_statistics(im, cell_name, features=[\"hog\"]):\n",
    "    \"\"\"\n",
    "    im: image (numpy array)\n",
    "    spot_id: the spot id of the image element, int\n",
    "    features: features to calculate (str), List\n",
    "    output: pandas Data frame with all features for a image or crop\n",
    "    \"\"\"\n",
    "    stat_dict = {}\n",
    "    for feature in features:\n",
    "        if feature == \"hog\":\n",
    "            stat_dict.update(get_hog_features(im, feature))\n",
    "    return stat_dict\n",
    "\n",
    "def get_hog_features(im, feature_name):\n",
    "    \"\"\"\n",
    "    im: image or image crop, numpy array\n",
    "    spot_id: the spot id of the image element, int\n",
    "    output: numpy array with hog features\n",
    "    \"\"\"\n",
    "    hog_dict = {}\n",
    "    hog_features = sk_image.hog(im)\n",
    "    for k, hog_feature in enumerate(hog_features):\n",
    "        hog_dict[f\"{feature_name}_{k}\"] = hog_feature\n",
    "    return hog_dict"
   ]
  },
  {
   "cell_type": "code",
   "execution_count": null,
   "metadata": {},
   "outputs": [],
   "source": [
    "## example of calculating the feature table, currently just supporting hog features"
   ]
  },
  {
   "cell_type": "code",
   "execution_count": 62,
   "metadata": {
    "scrolled": true
   },
   "outputs": [
    {
     "name": "stderr",
     "output_type": "stream",
     "text": [
      "Variable names are not unique. To make them unique, call `.var_names_make_unique`.\n",
      "Variable names are not unique. To make them unique, call `.var_names_make_unique`.\n"
     ]
    },
    {
     "name": "stdout",
     "output_type": "stream",
     "text": [
      "func:get_features_abt took: 3.7893130779266357 sec\n"
     ]
    }
   ],
   "source": [
    "adata = sc.read_visium(\n",
    "    dataset_folder, count_file=f\"{dataset_name}_filtered_feature_bc_matrix.h5\"\n",
    ")\n",
    "\n",
    "test = get_features_abt(adata[0:100], dataset_folder, dataset_name, features=[\"hog\"])"
   ]
  },
  {
   "cell_type": "code",
   "execution_count": null,
   "metadata": {},
   "outputs": [],
   "source": [
    "img = read_tif(dataset_folder, dataset_name)\n",
    "\n",
    "xcoord = adata.obsm[\"spatial\"][:, 0]\n",
    "ycoord = adata.obsm[\"spatial\"][:, 1]\n",
    "spot_diameter = adata.uns['spatial'][dataset_name]['scalefactors']['spot_diameter_fullres']\n",
    "spot_id = 1\n",
    "crop_1 = crop_img(img, xcoord[spot_id], ycoord[spot_id], scalef=1, sizef=1, spot_diameter=spot_diameter)\n",
    "cell_name = adata.obs.index[0]\n",
    "hog_dict = get_features_statistics(crop_1, cell_name, features=[\"hog\"])"
   ]
  },
  {
   "cell_type": "code",
   "execution_count": null,
   "metadata": {},
   "outputs": [],
   "source": [
    "pd.DataFrame(hog_dict, index=[cell_name])"
   ]
  },
  {
   "cell_type": "code",
   "execution_count": null,
   "metadata": {},
   "outputs": [],
   "source": []
  },
  {
   "cell_type": "code",
   "execution_count": null,
   "metadata": {},
   "outputs": [],
   "source": [
    "## get feature table with multi threading"
   ]
  },
  {
   "cell_type": "code",
   "execution_count": null,
   "metadata": {},
   "outputs": [],
   "source": [
    "from tqdm import tqdm\n",
    "from joblib import Parallel, delayed\n",
    "\n",
    "def process(andata_feature, spot_id, cell_name):\n",
    "    features = [\"hog\"]\n",
    "    crop_ = crop_img(andata_feature.image, andata_feature.xcoord[spot_id], andata_feature.ycoord[spot_id], scalef=1, \n",
    "                          sizef=1, spot_diameter=andata_feature.spot_diameter)\n",
    "        \n",
    "    features_pd = get_features_statistics(crop_, cell_name, features=andata_feature.features)\n",
    "    return features_pd\n",
    "\n",
    "@timing\n",
    "def get_features_abt_multithread(cell_names, num_cores = 1):\n",
    "    processed_list = Parallel(n_jobs = num_cores)(delayed(process)(andata_feature, iter_, i) for iter_, \n",
    "                                              i in enumerate(cell_names))\n",
    "    \n",
    "    features_abt = pd.concat(processed_list)\n",
    "    features_abt.set_index([\"cell_name\"], inplace=True)\n",
    "    return features_abt\n",
    "    \n",
    "    \n",
    "class AndataFeature():\n",
    "    def __init__(self, andata, dataset_folder, dataset_name, features=[\"hog\"]):\n",
    "        self.image = read_tif(dataset_folder, dataset_name)\n",
    "        self.xcoord = andata.obsm[\"spatial\"][:, 0]\n",
    "        self.ycoord = andata.obsm[\"spatial\"][:, 1]\n",
    "        self.spot_diameter = andata.uns['spatial'][dataset_name]['scalefactors']['spot_diameter_fullres']\n",
    "        self.features = features"
   ]
  },
  {
   "cell_type": "code",
   "execution_count": null,
   "metadata": {},
   "outputs": [],
   "source": [
    "## example on how to retrieve "
   ]
  },
  {
   "cell_type": "code",
   "execution_count": 9,
   "metadata": {},
   "outputs": [],
   "source": [
    "from tqdm import tqdm\n",
    "from joblib import Parallel, delayed\n",
    "    \n",
    "class AndataFeature():\n",
    "    def __init__(self, andata, dataset_folder, dataset_name, features=[\"hog\"]):\n",
    "        self.image = read_tif(dataset_folder, dataset_name)\n",
    "        self.xcoord = andata.obsm[\"spatial\"][:, 0]\n",
    "        self.ycoord = andata.obsm[\"spatial\"][:, 1]\n",
    "        self.spot_diameter = andata.uns['spatial'][dataset_name]['scalefactors']['spot_diameter_fullres']\n",
    "        self.features = features\n",
    "        \n",
    "    def process(self, cell_name):\n",
    "        features = [\"hog\"]\n",
    "        spot_id = adata.obs.index.get_loc(cell_name)\n",
    "        crop_ = crop_img(self.image, self.xcoord[spot_id], self.ycoord[spot_id], scalef=1, \n",
    "                              sizef=1, spot_diameter=self.spot_diameter)\n",
    "\n",
    "        features_pd = get_features_statistics_df(crop_, cell_name, features=self.features)\n",
    "        return features_pd\n",
    "\n",
    "    @timing\n",
    "    def get_features_abt_multithread(self, cell_names, num_cores = 1):\n",
    "        processed_list = Parallel(n_jobs = num_cores, backend=\"threading\")(delayed(self.process)(i) for i in cell_names)\n",
    "\n",
    "        features_abt = pd.concat(processed_list)\n",
    "        features_abt.set_index([\"cell_name\"], inplace=True)\n",
    "        return features_abt"
   ]
  },
  {
   "cell_type": "code",
   "execution_count": 10,
   "metadata": {},
   "outputs": [
    {
     "name": "stderr",
     "output_type": "stream",
     "text": [
      "Variable names are not unique. To make them unique, call `.var_names_make_unique`.\n",
      "Variable names are not unique. To make them unique, call `.var_names_make_unique`.\n"
     ]
    },
    {
     "name": "stdout",
     "output_type": "stream",
     "text": [
      "func:get_features_abt_multithread took: 115.83613753318787 sec\n"
     ]
    }
   ],
   "source": [
    "if __name__ == '__main__':\n",
    "    adata = sc.read_visium(\n",
    "        dataset_folder, count_file=f\"{dataset_name}_filtered_feature_bc_matrix.h5\"\n",
    "    )\n",
    "\n",
    "    andata_feature = AndataFeature(andata = adata, dataset_folder=dataset_folder, \n",
    "                               dataset_name=dataset_name, features=[\"hog\"])\n",
    "\n",
    "    cell_names = adata[0:2000].obs.index.tolist()\n",
    "    andata_feature.get_features_abt_multithread(cell_names , num_cores=5)"
   ]
  },
  {
   "cell_type": "code",
   "execution_count": null,
   "metadata": {},
   "outputs": [],
   "source": [
    "# get cell names\n",
    "cell_names = adata[0:10].obs.index.tolist()\n",
    "get_features_abt_multithread(cell_names, num_cores = 1)"
   ]
  },
  {
   "cell_type": "markdown",
   "metadata": {},
   "source": [
    "## crop image\n",
    "- use different sizefactors and scalefactors\n",
    "- try masking"
   ]
  },
  {
   "cell_type": "markdown",
   "metadata": {},
   "source": [
    "location of the spot that we are cropping"
   ]
  },
  {
   "cell_type": "code",
   "execution_count": null,
   "metadata": {},
   "outputs": [],
   "source": [
    "spot_id = 100\n",
    "plt.scatter(xcoord[spot_id], ycoord[spot_id], c='green')\n",
    "plt.imshow(img)"
   ]
  },
  {
   "cell_type": "markdown",
   "metadata": {},
   "source": [
    "crop with different neighborhood sizes. Note that the function also works when the range is outside the image"
   ]
  },
  {
   "cell_type": "code",
   "execution_count": null,
   "metadata": {},
   "outputs": [],
   "source": [
    "crop_1 = crop_img(img, xcoord[spot_id], ycoord[spot_id], scalef=1, sizef=1, spot_diameter=spot_diameter)\n",
    "crop_2 = crop_img(img, xcoord[spot_id], ycoord[spot_id], scalef=1, sizef=2, spot_diameter=spot_diameter)\n",
    "crop_10 = crop_img(img, xcoord[spot_id], ycoord[spot_id], scalef=1, sizef=10, spot_diameter=spot_diameter)\n",
    "crop_100 = crop_img(img, xcoord[spot_id], ycoord[spot_id], scalef=1, sizef=100, spot_diameter=spot_diameter)\n",
    "\n",
    "fig, axes = plt.subplots(2,2)\n",
    "axes[0][0].imshow(crop_1)\n",
    "axes[0][1].imshow(crop_2)\n",
    "axes[1][0].imshow(crop_10)\n",
    "axes[1][1].imshow(crop_100)"
   ]
  },
  {
   "cell_type": "code",
   "execution_count": null,
   "metadata": {},
   "outputs": [],
   "source": [
    "dict_ = {\"1_hog\":1,\"2_hog\":2, \"stat_4\":4,\"stat_5\": 5}\n",
    "log = pd.DataFrame([dict_])\n",
    "log[\"cell_name\"] = \"test\"\n",
    "log"
   ]
  },
  {
   "cell_type": "markdown",
   "metadata": {},
   "source": [
    "crop with different scales - note how the crops get smaller with smaller `scalef`"
   ]
  },
  {
   "cell_type": "code",
   "execution_count": null,
   "metadata": {},
   "outputs": [],
   "source": [
    "crop_1 = crop_img(img, xcoord[spot_id], ycoord[spot_id], scalef=1, sizef=10, spot_diameter=spot_diameter)\n",
    "crop_05 = crop_img(img, xcoord[spot_id], ycoord[spot_id], scalef=0.5, sizef=10, spot_diameter=spot_diameter)\n",
    "crop_025 = crop_img(img, xcoord[spot_id], ycoord[spot_id], scalef=0.25, sizef=10, spot_diameter=spot_diameter)\n",
    "crop_01 = crop_img(img, xcoord[spot_id], ycoord[spot_id], scalef=0.1, sizef=10, spot_diameter=spot_diameter)\n",
    "\n",
    "fig, axes = plt.subplots(2,2)\n",
    "axes[0][0].imshow(crop_1)\n",
    "axes[0][1].imshow(crop_05)\n",
    "axes[1][0].imshow(crop_025)\n",
    "axes[1][1].imshow(crop_01)"
   ]
  },
  {
   "cell_type": "code",
   "execution_count": null,
   "metadata": {},
   "outputs": [],
   "source": []
  }
 ],
 "metadata": {
  "kernelspec": {
   "display_name": "Python [conda env:hackathon-spatial] *",
   "language": "python",
   "name": "conda-env-hackathon-spatial-py"
  },
  "language_info": {
   "codemirror_mode": {
    "name": "ipython",
    "version": 3
   },
   "file_extension": ".py",
   "mimetype": "text/x-python",
   "name": "python",
   "nbconvert_exporter": "python",
   "pygments_lexer": "ipython3",
   "version": "3.6.12"
  }
 },
 "nbformat": 4,
 "nbformat_minor": 4
}
